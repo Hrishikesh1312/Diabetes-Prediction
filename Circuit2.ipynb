{
 "cells": [
  {
   "cell_type": "code",
   "execution_count": 3,
   "metadata": {},
   "outputs": [],
   "source": [
    "import pandas as pd\n",
    "import numpy as np\n",
    "import pennylane as qml\n",
    "from sklearn.model_selection import train_test_split\n",
    "from sklearn.preprocessing import StandardScaler, LabelEncoder\n",
    "import warnings"
   ]
  },
  {
   "cell_type": "code",
   "execution_count": 4,
   "metadata": {},
   "outputs": [],
   "source": [
    "warnings.simplefilter(\"ignore\", category=UserWarning)\n",
    "\n",
    "# Data Preprocessing\n",
    "data = pd.read_csv('Diabetes.csv')\n",
    "data['Sex'] = data['Sex'].map({'female': 0, 'male': 1})\n",
    "label_encoder = LabelEncoder()\n",
    "data['Prediction'] = label_encoder.fit_transform(data['Prediction'])"
   ]
  },
  {
   "cell_type": "code",
   "execution_count": 5,
   "metadata": {},
   "outputs": [],
   "source": [
    "# Feature Selection\n",
    "feature_columns = data.columns.difference(['ID No', 'Name', 'Prediction']).tolist()\n"
   ]
  },
  {
   "cell_type": "code",
   "execution_count": 6,
   "metadata": {},
   "outputs": [],
   "source": [
    "# Initialize tracking for results\n",
    "accuracy_results = []\n",
    "column_importance = {col: 0 for col in feature_columns}\n"
   ]
  },
  {
   "cell_type": "code",
   "execution_count": 10,
   "metadata": {},
   "outputs": [],
   "source": [
    "# Define Quantum Circuit 2: Enhanced Entanglement with Multi-Controlled Gates\n",
    "def evaluate_model(selected_columns):\n",
    "    X = data[selected_columns].values\n",
    "    y = data['Prediction'].values\n",
    "    \n",
    "    y_encoded = (y == 'DM').astype(int)\n",
    "    \n",
    "    X_train, X_test, y_train, y_test = train_test_split(X, y_encoded, test_size=0.2, random_state=42)\n",
    "    \n",
    "    scaler = StandardScaler()\n",
    "    X_train = scaler.fit_transform(X_train)\n",
    "    X_test = scaler.transform(X_test)\n",
    "\n",
    "    n_qubits = len(selected_columns)\n",
    "    dev = qml.device('default.qubit', wires=n_qubits)\n",
    "\n",
    "    params = np.random.normal(0, np.pi, size=n_qubits * 3)\n",
    "\n",
    "    @qml.qnode(dev)\n",
    "    def quantum_circuit(params, x):\n",
    "        for i in range(n_qubits):\n",
    "            qml.RX(x[i], wires=i)\n",
    "            qml.RZ(params[i], wires=i)\n",
    "        \n",
    "        for i in range(n_qubits):\n",
    "            for j in range(i + 1, n_qubits):\n",
    "                # Ensure unique target wire that is not in `i` or `j`\n",
    "                target = (j + 1) % n_qubits\n",
    "                if target != i and target != j:\n",
    "                    qml.Toffoli(wires=[i, j, target])\n",
    "        \n",
    "        for i in range(n_qubits):\n",
    "            qml.RX(params[n_qubits + i], wires=i)\n",
    "            qml.RZ(params[2 * n_qubits + i], wires=i)\n",
    "        \n",
    "        return qml.expval(qml.PauliZ(0))\n",
    "\n",
    "\n",
    "    y_pred = np.array([quantum_circuit(params, X_train[i]) for i in range(len(X_train))])\n",
    "    y_pred = (y_pred > 0).astype(int)\n",
    "    \n",
    "    accuracy = np.mean(y_pred == y_train)\n",
    "    return accuracy\n"
   ]
  },
  {
   "cell_type": "code",
   "execution_count": 11,
   "metadata": {},
   "outputs": [],
   "source": [
    "# Evaluate Model\n",
    "max_columns = len(feature_columns)\n",
    "iterations = 5\n",
    "sample = 1\n"
   ]
  },
  {
   "cell_type": "code",
   "execution_count": 15,
   "metadata": {},
   "outputs": [
    {
     "name": "stdout",
     "output_type": "stream",
     "text": [
      "Sample 26 - Selected Columns: ['D.Bilirubin' 'Apolipoprotein-B' 'TSH3']\n",
      "Sample 26 - Circuit 2\n",
      "\tNumber of columns: 3\n",
      "\tAccuracy: 97.50%\n",
      "Sample 27 - Selected Columns: ['Insulin' 'GTT 2 Hr' 'MGV']\n",
      "Sample 27 - Circuit 2\n",
      "\tNumber of columns: 3\n",
      "\tAccuracy: 89.17%\n",
      "Sample 28 - Selected Columns: ['HDL' 'T.Bilirubin' 'P']\n",
      "Sample 28 - Circuit 2\n",
      "\tNumber of columns: 3\n",
      "\tAccuracy: 83.33%\n",
      "Sample 29 - Selected Columns: ['P' 'TGL' 'Alb/Crea Ratio']\n",
      "Sample 29 - Circuit 2\n",
      "\tNumber of columns: 3\n",
      "\tAccuracy: 90.83%\n",
      "Sample 30 - Selected Columns: ['Albumin' 'T.Bilirubin' 'GTT 2 Hr']\n",
      "Sample 30 - Circuit 2\n",
      "\tNumber of columns: 3\n",
      "\tAccuracy: 95.00%\n",
      "Sample 31 - Selected Columns: ['HDL' 'TGL' 'Chol/HDL.Ratio' 'Albumin']\n",
      "Sample 31 - Circuit 2\n",
      "\tNumber of columns: 4\n",
      "\tAccuracy: 75.00%\n",
      "Sample 32 - Selected Columns: ['Hemoglobin' 'SOD' 'LDL' 'Age']\n",
      "Sample 32 - Circuit 2\n",
      "\tNumber of columns: 4\n",
      "\tAccuracy: 60.83%\n",
      "Sample 33 - Selected Columns: ['Sex' 'LPO' 'GTT 1/2 Hr' 'D.Bilirubin' 'Microalbumin']\n",
      "Sample 33 - Circuit 2\n",
      "\tNumber of columns: 5\n",
      "\tAccuracy: 99.17%\n",
      "Sample 34 - Selected Columns: ['LDL' 'MGV' 'HDL' 'UricAcid' 'Chol/HDL.Ratio' 'T.Protein']\n",
      "Sample 34 - Circuit 2\n",
      "\tNumber of columns: 6\n",
      "\tAccuracy: 85.83%\n",
      "Sample 35 - Selected Columns: ['Insulin' 'Fasting' 'P' 'Sex' 'UrineCreatinine' 'MGV' 'Microalbumin']\n",
      "Sample 35 - Circuit 2\n",
      "\tNumber of columns: 7\n",
      "\tAccuracy: 94.17%\n",
      "Sample 36 - Selected Columns: ['T.Bilirubin' 'HbA1C' 'Post Prandial' 'SGPT' 'LDL' 'Age' 'Homosystiene']\n",
      "Sample 36 - Circuit 2\n",
      "\tNumber of columns: 7\n",
      "\tAccuracy: 99.17%\n",
      "Sample 37 - Selected Columns: ['GTT 1/2 Hr' 'T.Protein' 'Hemoglobin' 'GTT 1 Hr' 'Alk.Phosphate' 'TGL'\n",
      " 'Apo B/Apo']\n",
      "Sample 37 - Circuit 2\n",
      "\tNumber of columns: 7\n",
      "\tAccuracy: 87.50%\n",
      "Sample 38 - Selected Columns: ['TGL' 'Alb/Crea Ratio' 'Apolipoprotein-A1' 'Hemoglobin' 'Fasting'\n",
      " 'D.Bilirubin' 'UrineCreatinine' 'HbA1C']\n",
      "Sample 38 - Circuit 2\n",
      "\tNumber of columns: 8\n",
      "\tAccuracy: 91.67%\n",
      "Sample 39 - Selected Columns: ['HbA1C' 'Apo B/Apo' 'TGL' 'D.Bilirubin' 'GTT 1/2 Hr' 'Fasting' 'SGOT'\n",
      " 'SOD']\n",
      "Sample 39 - Circuit 2\n",
      "\tNumber of columns: 8\n",
      "\tAccuracy: 80.83%\n",
      "Sample 40 - Selected Columns: ['Albumin' 'Apo B/Apo' 'Alk.Phosphate' 'Apolipoprotein-A1' 'HDL'\n",
      " 'GTT 2 Hr' 'GTT 1-1/2 Hr' 'Homosystiene']\n",
      "Sample 40 - Circuit 2\n",
      "\tNumber of columns: 8\n",
      "\tAccuracy: 98.33%\n"
     ]
    }
   ],
   "source": [
    "for num_columns in range(1, max_columns + 1):\n",
    "    for _ in range(iterations):\n",
    "        if sample < 41:\n",
    "            selected_columns = np.random.choice(feature_columns, size=num_columns, replace=False)\n",
    "            \n",
    "            \n",
    "            accuracy = evaluate_model(selected_columns)\n",
    "            \n",
    "            if accuracy > 0.6 and len(selected_columns) > 2:\n",
    "                # Print selected columns\n",
    "                print(f\"Sample {sample} - Selected Columns: {selected_columns}\")\n",
    "            \n",
    "                print(f\"Sample {sample} - Circuit 2\")\n",
    "                print(f\"\\tNumber of columns: {len(selected_columns)}\")\n",
    "                print(f\"\\tAccuracy: {accuracy:.2%}\")\n",
    "                accuracy_results.append((selected_columns, accuracy))\n",
    "                sample += 1"
   ]
  },
  {
   "cell_type": "code",
   "execution_count": null,
   "metadata": {},
   "outputs": [],
   "source": []
  }
 ],
 "metadata": {
  "kernelspec": {
   "display_name": "Python 3",
   "language": "python",
   "name": "python3"
  },
  "language_info": {
   "codemirror_mode": {
    "name": "ipython",
    "version": 3
   },
   "file_extension": ".py",
   "mimetype": "text/x-python",
   "name": "python",
   "nbconvert_exporter": "python",
   "pygments_lexer": "ipython3",
   "version": "3.12.3"
  }
 },
 "nbformat": 4,
 "nbformat_minor": 2
}
