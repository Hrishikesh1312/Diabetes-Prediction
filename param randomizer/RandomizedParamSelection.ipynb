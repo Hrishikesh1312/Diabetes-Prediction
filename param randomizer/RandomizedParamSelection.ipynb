{
 "cells": [
  {
   "cell_type": "markdown",
   "metadata": {},
   "source": [
    "## **Diabetes Prediction**"
   ]
  },
  {
   "cell_type": "markdown",
   "metadata": {},
   "source": [
    "### **Importing Libraries**"
   ]
  },
  {
   "cell_type": "code",
   "execution_count": null,
   "metadata": {},
   "outputs": [],
   "source": [
    "import pandas as pd\n",
    "import numpy as np\n",
    "import matplotlib.pyplot as plt\n",
    "import pennylane as qml\n",
    "from sklearn.model_selection import train_test_split\n",
    "from sklearn.metrics import precision_score, recall_score, f1_score, accuracy_score\n",
    "from sklearn.preprocessing import StandardScaler, LabelEncoder\n",
    "import seaborn as sns\n",
    "import warnings\n",
    "\n",
    "warnings.simplefilter(\"ignore\", category=UserWarning)"
   ]
  },
  {
   "cell_type": "markdown",
   "metadata": {},
   "source": [
    "### **Data Preprocessing**"
   ]
  },
  {
   "cell_type": "code",
   "execution_count": null,
   "metadata": {},
   "outputs": [],
   "source": [
    "data = pd.read_csv('../Diabetes.csv')\n",
    "data['Sex'] = data['Sex'].map({'female': 0, 'male': 1})\n",
    "label_encoder = LabelEncoder()\n",
    "data['Prediction'] = label_encoder.fit_transform(data['Prediction'])"
   ]
  },
  {
   "cell_type": "code",
   "execution_count": null,
   "metadata": {},
   "outputs": [],
   "source": [
    "data.head()"
   ]
  },
  {
   "cell_type": "code",
   "execution_count": null,
   "metadata": {},
   "outputs": [],
   "source": [
    "data.describe()"
   ]
  },
  {
   "cell_type": "markdown",
   "metadata": {},
   "source": [
    "### **Feature Selection, Model Definition and Evaluation**"
   ]
  },
  {
   "cell_type": "code",
   "execution_count": null,
   "metadata": {},
   "outputs": [],
   "source": [
    "feature_columns = data.columns.difference(['ID No', 'Name', 'Prediction']).tolist()"
   ]
  },
  {
   "cell_type": "code",
   "execution_count": null,
   "metadata": {},
   "outputs": [],
   "source": [
    "accuracy_results = []\n",
    "column_importance = {col: 0 for col in feature_columns}"
   ]
  },
  {
   "cell_type": "code",
   "execution_count": null,
   "metadata": {},
   "outputs": [],
   "source": [
    "def evaluate_model(selected_columns):\n",
    "    X = data[selected_columns].values\n",
    "    y = data['Prediction'].values\n",
    "    \n",
    "    y_encoded = (y == 'DM').astype(int)\n",
    "    \n",
    "    X_train, X_test, y_train, y_test = train_test_split(X, y_encoded, test_size=0.2, random_state=42)\n",
    "    \n",
    "    scaler = StandardScaler()\n",
    "    X_train = scaler.fit_transform(X_train)\n",
    "    X_test = scaler.transform(X_test)\n",
    "\n",
    "    n_qubits = len(selected_columns)\n",
    "    dev = qml.device('default.qubit', wires=n_qubits)\n",
    "\n",
    "    params = np.random.normal(0, np.pi, size=n_qubits * 3)\n",
    "\n",
    "    @qml.qnode(dev)\n",
    "    def quantum_circuit(params, x):\n",
    "        for i in range(n_qubits):\n",
    "            qml.RX(x[i], wires=i)\n",
    "            qml.RZ(params[i], wires=i)\n",
    "        \n",
    "        for i in range(n_qubits):\n",
    "            for j in range(i + 1, n_qubits):\n",
    "                target = (j + 1) % n_qubits\n",
    "                if target != i and target != j:\n",
    "                    qml.Toffoli(wires=[i, j, target])\n",
    "        \n",
    "        for i in range(n_qubits):\n",
    "            qml.RX(params[n_qubits + i], wires=i)\n",
    "            qml.RZ(params[2 * n_qubits + i], wires=i)\n",
    "        \n",
    "        return qml.expval(qml.PauliZ(0))\n",
    "\n",
    "\n",
    "    y_pred = np.array([quantum_circuit(params, X_test[i]) for i in range(len(X_test))])\n",
    "    y_pred = (y_pred > 0).astype(int)\n",
    "    \n",
    "    accuracy = accuracy_score(y_test, y_pred)\n",
    "    return accuracy"
   ]
  },
  {
   "cell_type": "code",
   "execution_count": null,
   "metadata": {},
   "outputs": [],
   "source": [
    "max_columns = len(feature_columns)\n",
    "iterations = 5"
   ]
  },
  {
   "cell_type": "code",
   "execution_count": null,
   "metadata": {},
   "outputs": [],
   "source": [
    "sample = 1\n",
    "for num_columns in range(1, max_columns + 1):\n",
    "    for _ in range(iterations):\n",
    "        if sample < 21:\n",
    "            selected_columns = np.random.choice(feature_columns, size=num_columns, replace=False)\n",
    "            \n",
    "            accuracy = evaluate_model(selected_columns)\n",
    "            \n",
    "            if accuracy > 0.5 and len(selected_columns) > 2:\n",
    "                \n",
    "                print(f\"Sample {sample}\")\n",
    "                print(f\"\\tNumber of columns: {len(selected_columns)}\")\n",
    "                print(f\"\\tAccuracy: {accuracy:.2%}\")\n",
    "                accuracy_results.append((selected_columns, accuracy))\n",
    "                sample = sample + 1\n",
    "                for col in selected_columns:\n",
    "                    column_importance[col] += accuracy"
   ]
  },
  {
   "cell_type": "markdown",
   "metadata": {},
   "source": [
    "### **Results and Analysis**"
   ]
  },
  {
   "cell_type": "markdown",
   "metadata": {},
   "source": [
    "#### Feature sets by accuracy"
   ]
  },
  {
   "cell_type": "code",
   "execution_count": null,
   "metadata": {},
   "outputs": [],
   "source": [
    "accuracy_results = pd.DataFrame(accuracy_results, columns=[\"Features\", \"Accuracy\"])\n",
    "sorted_results = accuracy_results.sort_values(by=[\"Accuracy\"], ascending=False)\n",
    "sorted_results[\"No. Features\"] = sorted_results[\"Features\"].apply(len)\n",
    "\n",
    "print(sorted_results)"
   ]
  },
  {
   "cell_type": "markdown",
   "metadata": {},
   "source": [
    "#### Visualization of Feature sets by Accuracy"
   ]
  },
  {
   "cell_type": "code",
   "execution_count": null,
   "metadata": {},
   "outputs": [],
   "source": [
    "accuracy_results = pd.DataFrame(accuracy_results, columns=[\"Features\", \"Accuracy\"])\n",
    "sorted_results = accuracy_results.sort_values(by=[\"Accuracy\"], ascending=False)\n",
    "sorted_results[\"Features\"] = sorted_results[\"Features\"].apply(lambda x: ', '.join(x))[:10]\n",
    "\n",
    "plt.figure(figsize=(12, 6))\n",
    "sns.barplot(x=\"Features\", y=\"Accuracy\", data=sorted_results, palette=\"viridis\", hue=\"Features\")\n",
    "plt.ylabel('Accuracy')\n",
    "plt.xlabel('Feature Set')\n",
    "plt.title('Model Accuracy by Features')\n",
    "plt.ylim(0, 1)  \n",
    "plt.xticks([])  \n",
    "plt.grid(axis='y', linestyle='--', alpha=0.7)\n",
    "plt.legend(title='Legend', loc='upper right', bbox_to_anchor=(1, -0.1))\n",
    "plt.show()"
   ]
  }
 ],
 "metadata": {
  "kernelspec": {
   "display_name": "pennylane",
   "language": "python",
   "name": "python3"
  },
  "language_info": {
   "codemirror_mode": {
    "name": "ipython",
    "version": 3
   },
   "file_extension": ".py",
   "mimetype": "text/x-python",
   "name": "python",
   "nbconvert_exporter": "python",
   "pygments_lexer": "ipython3",
   "version": "3.12.7"
  }
 },
 "nbformat": 4,
 "nbformat_minor": 2
}
